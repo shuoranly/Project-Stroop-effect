{
 "cells": [
  {
   "cell_type": "markdown",
   "metadata": {},
   "source": [
    "## 项目一检验心理学现象所对应的数据处理部分"
   ]
  },
  {
   "cell_type": "markdown",
   "metadata": {},
   "source": [
    "### 一、原始数据直方图"
   ]
  },
  {
   "cell_type": "code",
   "execution_count": 41,
   "metadata": {},
   "outputs": [
    {
     "name": "stdout",
     "output_type": "stream",
     "text": [
      "Populating the interactive namespace from numpy and matplotlib\n"
     ]
    },
    {
     "name": "stderr",
     "output_type": "stream",
     "text": [
      "D:\\Anaconda3\\lib\\site-packages\\IPython\\core\\magics\\pylab.py:160: UserWarning: pylab import has clobbered these variables: ['det']\n",
      "`%matplotlib` prevents importing * from pylab and numpy\n",
      "  \"\\n`%matplotlib` prevents importing * from pylab and numpy\"\n"
     ]
    }
   ],
   "source": [
    "%pylab inline\n",
    "import numpy as np\n",
    "import pandas as pd\n",
    "from pandas import Series, DataFrame\n",
    "import matplotlib.pyplot as plt\n",
    "import math\n",
    "\n",
    "data = pd.read_csv('stroopdata.csv')"
   ]
  },
  {
   "cell_type": "markdown",
   "metadata": {},
   "source": [
    "#### 1.Congruent"
   ]
  },
  {
   "cell_type": "code",
   "execution_count": 59,
   "metadata": {
    "scrolled": false
   },
   "outputs": [
    {
     "data": {
      "text/plain": [
       "<matplotlib.axes._subplots.AxesSubplot at 0x26fb887bba8>"
      ]
     },
     "execution_count": 59,
     "metadata": {},
     "output_type": "execute_result"
    },
    {
     "data": {
      "image/png": "[encoded data removed]",
      "text/plain": [
       "<matplotlib.figure.Figure at 0x26fbc4e1b38>"
      ]
     },
     "metadata": {},
     "output_type": "display_data"
    }
   ],
   "source": [
    "data_con = data['Congruent']\n",
    "data_con.hist()"
   ]
  },
  {
   "cell_type": "markdown",
   "metadata": {},
   "source": [
    "#### 2.Incongruent"
   ]
  },
  {
   "cell_type": "code",
   "execution_count": 64,
   "metadata": {
    "scrolled": true
   },
   "outputs": [
    {
     "data": {
      "text/plain": [
       "<matplotlib.axes._subplots.AxesSubplot at 0x26fbc950b38>"
      ]
     },
     "execution_count": 64,
     "metadata": {},
     "output_type": "execute_result"
    },
    {
     "data": {
      "image/png": "[encoded data removed]",
      "text/plain": [
       "<matplotlib.figure.Figure at 0x26fbc8a5908>"
      ]
     },
     "metadata": {},
     "output_type": "display_data"
    }
   ],
   "source": [
    "data_incon = data['Incongruent']\n",
    "data_incon.hist(bins=9)"
   ]
  },
  {
   "cell_type": "markdown",
   "metadata": {},
   "source": [
    "### 二、描述性统计"
   ]
  },
  {
   "cell_type": "markdown",
   "metadata": {},
   "source": [
    "#### 1.一致文字条件"
   ]
  },
  {
   "cell_type": "code",
   "execution_count": 5,
   "metadata": {},
   "outputs": [
    {
     "data": {
      "text/plain": [
       "count    24.000000\n",
       "mean     14.051125\n",
       "std       3.559358\n",
       "min       8.630000\n",
       "25%      11.895250\n",
       "50%      14.356500\n",
       "75%      16.200750\n",
       "max      22.328000\n",
       "Name: Congruent, dtype: float64"
      ]
     },
     "execution_count": 5,
     "metadata": {},
     "output_type": "execute_result"
    }
   ],
   "source": [
    "data_con.describe()"
   ]
  },
  {
   "cell_type": "code",
   "execution_count": 6,
   "metadata": {},
   "outputs": [
    {
     "name": "stdout",
     "output_type": "stream",
     "text": [
      "median_con= 14.3565\n",
      "R_con= 13.698\n"
     ]
    },
    {
     "data": {
      "text/plain": [
       "4.3054999999999986"
      ]
     },
     "execution_count": 6,
     "metadata": {},
     "output_type": "execute_result"
    }
   ],
   "source": [
    "#中位数：\n",
    "data_con_s = sorted(data_con)\n",
    "med_num = int(len(data_con_s)/2)\n",
    "if len(data_con_s) % 2 == 0:\n",
    "    median_con = (data_con_s[med_num - 1] + data_con_s[med_num]) / 2\n",
    "    print(\"median_con=\", median_con)\n",
    "else:\n",
    "    median_con = data_con_s[med_num - 1]\n",
    "    print(\"median_con=\", median_con)\n",
    "#全距\n",
    "R_con = data_con_s[-1] - data_con_s[0]\n",
    "print(\"R_con=\", R_con)\n",
    "16.200750 - 11.895250"
   ]
  },
  {
   "cell_type": "markdown",
   "metadata": {},
   "source": [
    "#### 2.不一致文字条件"
   ]
  },
  {
   "cell_type": "code",
   "execution_count": 7,
   "metadata": {},
   "outputs": [
    {
     "data": {
      "text/plain": [
       "count    24.000000\n",
       "mean     22.015917\n",
       "std       4.797057\n",
       "min      15.687000\n",
       "25%      18.716750\n",
       "50%      21.017500\n",
       "75%      24.051500\n",
       "max      35.255000\n",
       "Name: Incongruent, dtype: float64"
      ]
     },
     "execution_count": 7,
     "metadata": {},
     "output_type": "execute_result"
    }
   ],
   "source": [
    "data_incon.describe()"
   ]
  },
  {
   "cell_type": "code",
   "execution_count": 8,
   "metadata": {},
   "outputs": [
    {
     "name": "stdout",
     "output_type": "stream",
     "text": [
      "median_incon= 21.0175\n",
      "R_incon= 19.568\n"
     ]
    }
   ],
   "source": [
    "#中位数：\n",
    "data_incon_s = sorted(data_incon)\n",
    "med_num = int(len(data_incon_s)/2)\n",
    "if len(data_incon_s) % 2 == 0:\n",
    "    median_incon = (data_incon_s[med_num - 1] + data_incon_s[med_num]) / 2\n",
    "    print(\"median_incon=\", median_incon)\n",
    "else:\n",
    "    median_incon = data_incon_s[med_num - 1]\n",
    "    print(\"median_incon=\", median_incon)\n",
    "#全距\n",
    "R_incon = data_incon_s[-1] - data_incon_s[0]\n",
    "print(\"R_incon=\", R_incon)"
   ]
  },
  {
   "cell_type": "markdown",
   "metadata": {},
   "source": [
    "### 三、可视化"
   ]
  },
  {
   "cell_type": "code",
   "execution_count": 9,
   "metadata": {},
   "outputs": [
    {
     "data": {
      "image/png": "[encoded data removed]",
      "text/plain": [
       "<matplotlib.figure.Figure at 0x26fb84b5b70>"
      ]
     },
     "metadata": {},
     "output_type": "display_data"
    }
   ],
   "source": [
    "data.plot(kind='bar').get_figure().savefig('plot.png')"
   ]
  },
  {
   "cell_type": "markdown",
   "metadata": {},
   "source": [
    "### 四、测试检验"
   ]
  },
  {
   "cell_type": "code",
   "execution_count": 10,
   "metadata": {},
   "outputs": [
    {
     "name": "stdout",
     "output_type": "stream",
     "text": [
      "det = 7.964791666666667\n",
      "sd = 4.864826910359056\n",
      "t = 8.020706944109957\n"
     ]
    }
   ],
   "source": [
    "#配对样本差异均值\n",
    "det_list = data_incon - data_con\n",
    "det = det_list.sum() / len(det_list)\n",
    "print(\"det =\", det)\n",
    "#配对样本差值的标准偏差\n",
    "sd = det_list.std()\n",
    "print(\"sd =\", sd)\n",
    "#统计量\n",
    "t = det / (sd/math.sqrt(len(det_list)))\n",
    "print(\"t =\", t)"
   ]
  }
 ],
 "metadata": {
  "kernelspec": {
   "display_name": "Python 3",
   "language": "python",
   "name": "python3"
  },
  "language_info": {
   "codemirror_mode": {
    "name": "ipython",
    "version": 3
   },
   "file_extension": ".py",
   "mimetype": "text/x-python",
   "name": "python",
   "nbconvert_exporter": "python",
   "pygments_lexer": "ipython3",
   "version": "3.6.2"
  }
 },
 "nbformat": 4,
 "nbformat_minor": 2
}
